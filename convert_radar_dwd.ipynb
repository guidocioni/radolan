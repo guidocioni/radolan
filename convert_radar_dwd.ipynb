{
 "cells": [
  {
   "cell_type": "code",
   "execution_count": 26,
   "metadata": {},
   "outputs": [
    {
     "name": "stdout",
     "output_type": "stream",
     "text": [
      "Using matplotlib backend: TkAgg\n"
     ]
    }
   ],
   "source": [
    "from mpl_toolkits.basemap import Basemap\n",
    "import wradlib as wrl\n",
    "import numpy as np\n",
    "import matplotlib.pyplot as pl\n",
    "%matplotlib\n",
    "import os\n",
    "import netCDF4\n",
    "import requests"
   ]
  },
  {
   "cell_type": "code",
   "execution_count": 27,
   "metadata": {},
   "outputs": [],
   "source": [
    "#Download latest RX scan\n",
    "response=requests.get(\"https://opendata.dwd.de/weather/radar/composit/rx/raa01-rx_10000-latest-dwd---bin\")\n",
    "with open('raa01-rx_10000-latest-dwd---bin', 'wb') as f:\n",
    "    f.write(response.content)\n",
    "\n",
    "rx_filename = \"raa01-rx_10000-latest-dwd---bin\"\n",
    "\n",
    "rxdata, rxattrs = wrl.io.read_RADOLAN_composite(rx_filename)\n",
    "rxdata = np.ma.masked_equal(rxdata, -9999) / 2 - 32.5\n",
    "\n",
    "# Get coordinates\n",
    "\n",
    "radolan_grid_ll = wrl.georef.get_radolan_grid(900,900, wgs84=True)\n",
    "\n",
    "lon_wgs0 = radolan_grid_ll[:,:,0]\n",
    "lat_wgs0 = radolan_grid_ll[:,:,1]\n",
    "\n",
    "datestring=rxattrs['datetime'].strftime(\"%Y-%m-%d %H:%M\")"
   ]
  },
  {
   "cell_type": "code",
   "execution_count": 28,
   "metadata": {},
   "outputs": [],
   "source": [
    "# plot RX product\n",
    "# fig = pl.figure()\n",
    "\n",
    "bmap = Basemap(projection='cyl', llcrnrlon=4, llcrnrlat=47, urcrnrlon=16, urcrnrlat=55,  resolution='i')\n",
    "\n",
    "bmap.contourf(lon_wgs0,lat_wgs0,rxdata,np.arange(-33,60,0.5),cmap='nipy_spectral')\n",
    "\n",
    "# Draw the coastlines, countries, parallels and meridians\n",
    "bmap.drawcoastlines(linewidth=0.5, linestyle='solid', color='white')\n",
    "bmap.drawcountries(linewidth=0.5, linestyle='solid', color='white')\n",
    "bmap.drawparallels(np.arange(-90.0, 90.0, 1), linewidth=0.1, color='white', labels=[True, False, False, True])\n",
    "bmap.drawmeridians(np.arange(0.0, 360.0, 1), linewidth=0.1, color='white', labels=[True, False, False, True])\n",
    "bmap.readshapefile('/Users/guidocioni/shapefiles/DEU_adm_shp/DEU_adm1','DEU_adm1',linewidth=0.3,color='white')\n",
    "\n",
    "# Insert the legend\n",
    "bmap.colorbar(location='right', label='Reflectivity [dBz]')\n",
    "\n",
    "pl.title('RX Product single scan\\n' + datestring)\n",
    "\n",
    "# pl.grid(color='r')\n",
    "# pl.show()\n",
    "pl.savefig('radar'+rxattrs['datetime'].strftime(\"%Y%m%d%H%M\")+'.png', dpi=150)"
   ]
  },
  {
   "cell_type": "code",
   "execution_count": null,
   "metadata": {},
   "outputs": [],
   "source": [
    "#Optional\n",
    "#Convert to netcdf\n",
    "ncfile=netCDF4.Dataset('out.nc','w')\n",
    "\n",
    "calendar = 'standard'\n",
    "units = 'hours since 1970-01-01 00:00'\n",
    "times=[rxattrs['datetime']]\n",
    "\n",
    "ncfile.createDimension('nlon',900)\n",
    "ncfile.createDimension('nlat',900)\n",
    "ncfile.createDimension('time',None)\n",
    "\n",
    "x = ncfile.createVariable('lon2d', 'd', ('nlon','nlat'))\n",
    "y = ncfile.createVariable('lat2d', 'd', ('nlon','nlat'))\n",
    "\n",
    "x.units = 'degrees_east'\n",
    "y.units = 'degrees_north'\n",
    "\n",
    "timevar = ncfile.createVariable(varname='time', dimensions=('time',) ,datatype='float64')\n",
    "timevar.units = units\n",
    "timevar[:] = netCDF4.date2num(times, units, calendar=calendar)\n",
    " \n",
    "# transfer the coordinate variables:\n",
    "x[:] = lon_wgs0\n",
    "y[:] = lat_wgs0\n",
    "\n",
    "# Create data variable in NetCDF.\n",
    "data = ncfile.createVariable('rxdata', 'd', ('time','nlon','nlat'))\n",
    "data.units='dbZ'\n",
    " \n",
    "# transfer the data variables:\n",
    "data[0,:,:] = rxdata\n",
    "\n",
    "ncfile.close()"
   ]
  }
 ],
 "metadata": {
  "kernelspec": {
   "display_name": "Python 2",
   "language": "python",
   "name": "python2"
  },
  "language_info": {
   "codemirror_mode": {
    "name": "ipython",
    "version": 2
   },
   "file_extension": ".py",
   "mimetype": "text/x-python",
   "name": "python",
   "nbconvert_exporter": "python",
   "pygments_lexer": "ipython2",
   "version": "2.7.14"
  }
 },
 "nbformat": 4,
 "nbformat_minor": 2
}
